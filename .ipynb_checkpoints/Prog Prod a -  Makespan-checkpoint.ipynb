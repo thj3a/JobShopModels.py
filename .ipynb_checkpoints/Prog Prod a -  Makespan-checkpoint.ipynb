{
 "cells": [
  {
   "cell_type": "markdown",
   "id": "257ead09",
   "metadata": {},
   "source": [
    "## Prog Prod a - Makespan"
   ]
  },
  {
   "cell_type": "markdown",
   "id": "5358e1d2",
   "metadata": {},
   "source": [
    "#### importando os pacotes para resolução do modelo"
   ]
  },
  {
   "cell_type": "code",
   "execution_count": 1,
   "id": "1896a43c",
   "metadata": {},
   "outputs": [],
   "source": [
    "import gurobipy as grb\n",
    "import numpy as np\n",
    "import time\n",
    "\n",
    "#tempo inicial\n",
    "ini = time.time()"
   ]
  },
  {
   "cell_type": "markdown",
   "id": "8c2ca788",
   "metadata": {},
   "source": [
    "#### atribuindo um nome ao modelo"
   ]
  },
  {
   "cell_type": "code",
   "execution_count": 2,
   "id": "2965d6ff",
   "metadata": {},
   "outputs": [
    {
     "name": "stdout",
     "output_type": "stream",
     "text": [
      "Set parameter Username\n"
     ]
    }
   ],
   "source": [
    "model = grb.Model()"
   ]
  },
  {
   "cell_type": "markdown",
   "id": "b6b922a2",
   "metadata": {},
   "source": [
    "#### ranges e constantes - uma única máquina"
   ]
  },
  {
   "cell_type": "code",
   "execution_count": 3,
   "id": "dcc49431",
   "metadata": {},
   "outputs": [],
   "source": [
    "#P_i : tempo de processamento da tarefa i. No nosso caso a tarefa fictícia é a de número 0 e temos 9 tarefas em vez de 8.\n",
    "P = [0, 64 , 53, 63, 99, 189, 44, 50, 22]\n",
    "\n",
    "#range das variáveis de decisão: número de tarefas\n",
    "N = len(P)\n",
    "\n",
    "#D_i : data de entrega da tarefa i\n",
    "#ATENÇÃO: descomentar o vetor D abaixo para as próximas aplicações, pois só serve para as aplicações (b)-(f)\n",
    "#D = [0, 100, 70, 150, 601, 118, 590, 107, 180]\n",
    "\n",
    "#limitante superior\n",
    "M = 1000"
   ]
  },
  {
   "cell_type": "markdown",
   "id": "295711e8",
   "metadata": {},
   "source": [
    "#### variáveis de decisão"
   ]
  },
  {
   "cell_type": "code",
   "execution_count": 4,
   "id": "b83cbdb7",
   "metadata": {},
   "outputs": [],
   "source": [
    "#t_i : instante de término do processamento da tarefa i\n",
    "t = model.addVars(N, lb=0.0, vtype=grb.GRB.CONTINUOUS, name='t')\n",
    "\n",
    "#x_ij = 1 se a tarefa i precede imediatamente a tarefa j\n",
    "x = model.addVars(N, N, lb=0.0, vtype=grb.GRB.BINARY, name='x')"
   ]
  },
  {
   "cell_type": "markdown",
   "id": "d092c27c",
   "metadata": {},
   "source": [
    "#### aqui abaixo entrarão as variáveis pertinentes a cada aplicação: (a)-(f)"
   ]
  },
  {
   "cell_type": "code",
   "execution_count": 5,
   "id": "ea1693f4",
   "metadata": {},
   "outputs": [],
   "source": [
    "#makespan = tempo de término da tarefa mais tardia + min{max_i t_i}\n",
    "tmax = model.addVar(name='tmax')"
   ]
  },
  {
   "cell_type": "markdown",
   "id": "faaa5cf9",
   "metadata": {},
   "source": [
    "#### ATENÇÃO!\n",
    "#### aqui entrarão suas retrições e sua F.O. para as letras (b)-(f)"
   ]
  },
  {
   "cell_type": "code",
   "execution_count": 6,
   "id": "c5b74b49",
   "metadata": {},
   "outputs": [],
   "source": [
    "#função objetivo\n",
    "Min_M = tmax\n",
    "\n",
    "#makespan = min{max_i{t_i}}\n",
    "for i in range(N):\n",
    "    model.addConstr((tmax - t[i] >= 0), name='Makespan_{}'.format(i))"
   ]
  },
  {
   "cell_type": "markdown",
   "id": "83d73e91",
   "metadata": {},
   "source": [
    "#### NÃO MEXER NESSA PARTE!\n",
    "#### Restrições (R1)-(R6), comuns a todas as aplicações"
   ]
  },
  {
   "cell_type": "code",
   "execution_count": 7,
   "id": "a35bbbdb",
   "metadata": {},
   "outputs": [
    {
     "data": {
      "text/plain": [
       "<gurobi.Constr *Awaiting Model Update*>"
      ]
     },
     "execution_count": 7,
     "metadata": {},
     "output_type": "execute_result"
    }
   ],
   "source": [
    "#restrições de assignment tipo 1: cada tarefa possui exatamente uma tarefa predecessora\n",
    "for j in range(N):\n",
    "    model.addConstr((grb.quicksum([x[i,j] for i in range(N) if i != j]) == 1), name='Assign1_{}'.format(j))\n",
    "\n",
    "#restrições de assignment tipo 2: cada tarefa possui exatamente uma tarefa sucessora\n",
    "for i in range(N):\n",
    "    model.addConstr((grb.quicksum([x[i,j] for j in range(N) if j != i]) == 1), name='Assign2_{}'.format(i))\n",
    "\n",
    "#restrições de precedência (compartilhamento de máquina única)\n",
    "for i in range(N):\n",
    "    for j in range(N):\n",
    "        if j > 0:\n",
    "            model.addConstr((t[j] - t[i] + M - P[j]*x[i,j] - M*x[i,j] >= 0), name='Preced_{}'.format(i,j))\n",
    "\n",
    "#condições de contorno para tarefa fictícia\n",
    "model.addConstr((t[0] == 0), name='Ficticia')"
   ]
  },
  {
   "cell_type": "markdown",
   "id": "634d7085",
   "metadata": {},
   "source": [
    "#### otimização do modelo"
   ]
  },
  {
   "cell_type": "code",
   "execution_count": 8,
   "id": "c18ca116",
   "metadata": {
    "scrolled": true
   },
   "outputs": [
    {
     "name": "stdout",
     "output_type": "stream",
     "text": [
      "Gurobi Optimizer version 10.0.1 build v10.0.1rc0 (win64)\n",
      "\n",
      "CPU model: AMD Ryzen 7 3700X 8-Core Processor, instruction set [SSE2|AVX|AVX2]\n",
      "Thread count: 8 physical cores, 16 logical processors, using up to 16 threads\n",
      "\n",
      "Optimize a model with 100 rows, 91 columns and 363 nonzeros\n",
      "Model fingerprint: 0x203243ec\n",
      "Variable types: 10 continuous, 81 integer (81 binary)\n",
      "Coefficient statistics:\n",
      "  Matrix range     [1e+00, 1e+03]\n",
      "  Objective range  [1e+00, 1e+00]\n",
      "  Bounds range     [1e+00, 1e+00]\n",
      "  RHS range        [1e+00, 1e+03]\n",
      "Found heuristic solution: objective 584.0000000\n",
      "Presolve removed 10 rows and 10 columns\n",
      "Presolve time: 0.01s\n",
      "Presolved: 90 rows, 81 columns, 344 nonzeros\n",
      "Variable types: 9 continuous, 72 integer (72 binary)\n",
      "\n",
      "Root relaxation: objective 6.496047e+00, 44 iterations, 0.01 seconds (0.00 work units)\n",
      "\n",
      "    Nodes    |    Current Node    |     Objective Bounds      |     Work\n",
      " Expl Unexpl |  Obj  Depth IntInf | Incumbent    BestBd   Gap | It/Node Time\n",
      "\n",
      "     0     0    6.49605    0   22  584.00000    6.49605  98.9%     -    0s\n",
      "     0     0   22.00000    0   25  584.00000   22.00000  96.2%     -    0s\n",
      "     0     0   22.00000    0   29  584.00000   22.00000  96.2%     -    0s\n",
      "     0     0   32.24037    0   32  584.00000   32.24037  94.5%     -    0s\n",
      "     0     0   44.00000    0   32  584.00000   44.00000  92.5%     -    0s\n",
      "     0     0  160.04567    0   20  584.00000  160.04567  72.6%     -    0s\n",
      "     0     0  189.00000    0   20  584.00000  189.00000  67.6%     -    0s\n",
      "     0     0  189.00000    0   22  584.00000  189.00000  67.6%     -    0s\n",
      "     0     0  189.00000    0   21  584.00000  189.00000  67.6%     -    0s\n",
      "     0     0  189.00000    0   17  584.00000  189.00000  67.6%     -    0s\n",
      "     0     0  189.00000    0    8  584.00000  189.00000  67.6%     -    0s\n",
      "     0     0  189.00000    0    6  584.00000  189.00000  67.6%     -    0s\n",
      "     0     0  189.00000    0   11  584.00000  189.00000  67.6%     -    0s\n",
      "     0     0  189.00000    0   12  584.00000  189.00000  67.6%     -    0s\n",
      "     0     0  189.00000    0    8  584.00000  189.00000  67.6%     -    0s\n",
      "     0     0  189.00000    0    8  584.00000  189.00000  67.6%     -    0s\n",
      "     0     2  189.00000    0    8  584.00000  189.00000  67.6%     -    0s\n",
      "H  437   288                     583.9999999  189.00000  67.6%   6.6    0s\n",
      "\n",
      "Cutting planes:\n",
      "  Learned: 15\n",
      "  Gomory: 19\n",
      "  Implied bound: 4\n",
      "  Projected implied bound: 15\n",
      "  Clique: 4\n",
      "  MIR: 214\n",
      "  Flow cover: 742\n",
      "  Inf proof: 8\n",
      "  RLT: 1\n",
      "  Relax-and-lift: 15\n",
      "\n",
      "Explored 60163 nodes (587355 simplex iterations) in 4.25 seconds (3.42 work units)\n",
      "Thread count was 16 (of 16 available processors)\n",
      "\n",
      "Solution count 2: 584 584 \n",
      "\n",
      "Optimal solution found (tolerance 1.00e-04)\n",
      "Best objective 5.840000000000e+02, best bound 5.840000000000e+02, gap 0.0000%\n"
     ]
    }
   ],
   "source": [
    "model.setObjective(Min_M, sense=grb.GRB.MINIMIZE)\n",
    "model.update()\n",
    "model.optimize()"
   ]
  },
  {
   "cell_type": "markdown",
   "id": "c6d4ae46",
   "metadata": {},
   "source": [
    "#### resultados do modelo"
   ]
  },
  {
   "cell_type": "code",
   "execution_count": 9,
   "id": "9e18a773",
   "metadata": {},
   "outputs": [
    {
     "name": "stdout",
     "output_type": "stream",
     "text": [
      "Makespan = 584.0\n",
      "Tempo de CPU (em segundos) = 4.311499357223511\n"
     ]
    }
   ],
   "source": [
    "Makespan = model.getObjective()\n",
    "\n",
    "#tempo final\n",
    "fim = time.time()\n",
    "\n",
    "#imprimindo os resultados\n",
    "print('Makespan = '+str(Makespan.getValue()))\n",
    "print('Tempo de CPU (em segundos) = '+str(fim - ini))"
   ]
  },
  {
   "cell_type": "markdown",
   "id": "18e40da1",
   "metadata": {},
   "source": [
    "#### NÃO MEXER NESSA PARTE!\n",
    "#### rotina para construção do sequenciamento"
   ]
  },
  {
   "cell_type": "code",
   "execution_count": 10,
   "id": "c663da04",
   "metadata": {},
   "outputs": [
    {
     "name": "stdout",
     "output_type": "stream",
     "text": [
      "Sequenciamento (a tarefa 0 é ficticia):\n",
      "[0] 0.0 ->[1] 64.0 ->[4] 163.0 ->[2] 216.0 ->[8] 238.0 ->[6] 282.0 ->[3] 345.0 ->[5] 534.0 ->[7] 584.0 ->"
     ]
    }
   ],
   "source": [
    "print(\"Sequenciamento (a tarefa 0 é ficticia):\")\n",
    "\n",
    "dicionario = {str([i]):t[i].X for i in range(N)}\n",
    "\n",
    "for key, value in sorted(dicionario.items(), key=lambda item: item[1]):\n",
    "    print(key, value, end=' ->')"
   ]
  },
  {
   "cell_type": "markdown",
   "id": "54648845",
   "metadata": {},
   "source": [
    "#### ATENÇÃO \n",
    "#### Fazer sua saída de dados para as letras (b)-(f) aqui embaixo. Não misturar com o sequenciamento!"
   ]
  },
  {
   "cell_type": "code",
   "execution_count": 11,
   "id": "53cf8a89",
   "metadata": {},
   "outputs": [
    {
     "name": "stdout",
     "output_type": "stream",
     "text": [
      "Tarefa  tempo de termino\n",
      "[1]\t64.0\n",
      "[2]\t216.0\n",
      "[3]\t345.0\n",
      "[4]\t163.0\n",
      "[5]\t534.0\n",
      "[6]\t282.0\n",
      "[7]\t584.0\n",
      "[8]\t238.0\n"
     ]
    }
   ],
   "source": [
    "print(\"Tarefa  tempo de termino\")\n",
    "for i in range(N):\n",
    "    if i != 0:\n",
    "        print(str([i])+\"\\t\"+str(t[i].X))"
   ]
  }
 ],
 "metadata": {
  "kernelspec": {
   "display_name": "Python 3 (ipykernel)",
   "language": "python",
   "name": "python3"
  },
  "language_info": {
   "codemirror_mode": {
    "name": "ipython",
    "version": 3
   },
   "file_extension": ".py",
   "mimetype": "text/x-python",
   "name": "python",
   "nbconvert_exporter": "python",
   "pygments_lexer": "ipython3",
   "version": "3.11.1"
  },
  "vscode": {
   "interpreter": {
    "hash": "474fa0651e5276cf1c3245e168ee202e06ef29b372bf0b49265ae28c49a1484c"
   }
  }
 },
 "nbformat": 4,
 "nbformat_minor": 5
}
