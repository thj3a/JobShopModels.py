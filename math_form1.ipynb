{
 "cells": [
  {
   "cell_type": "code",
   "execution_count": 1,
   "metadata": {},
   "outputs": [],
   "source": [
    "import gurobipy as gp\n",
    "from gurobipy import GRB\n",
    "import numpy as np\n",
    "import time"
   ]
  },
  {
   "cell_type": "code",
   "execution_count": 2,
   "metadata": {},
   "outputs": [
    {
     "name": "stdout",
     "output_type": "stream",
     "text": [
      "Set parameter Username\n"
     ]
    }
   ],
   "source": [
    "model = gp.Model(name=\"hybrid\")"
   ]
  },
  {
   "cell_type": "code",
   "execution_count": 3,
   "metadata": {},
   "outputs": [],
   "source": [
    "processingT = np.array([[[7, 3, 3],  [1, 5, 2],  [3, 2, 5],  [3, 5, 3],  [6, 4, 8]],  \n",
    "                        [[5, 3, -1], [3, 3, -1], [4, 1, -1], [2, 6, -1], [2, 3, -1]],\n",
    "                        [[2, 1, -1], [3, 4, -1], [5, 3, -1], [3, 2, -1], [2, 5, -1]]])"
   ]
  },
  {
   "cell_type": "code",
   "execution_count": 4,
   "metadata": {},
   "outputs": [],
   "source": [
    "n_jobs = 5\n",
    "n_machines = [3, 2, 2]\n",
    "n_stages = 3\n",
    "\n",
    "L = sum(processingT.flatten())*1000"
   ]
  },
  {
   "cell_type": "code",
   "execution_count": 5,
   "metadata": {},
   "outputs": [],
   "source": [
    "x = [[[model.addVar(vtype=GRB.BINARY, name=f\"x[job:{j}, stage:{s}, machine:{k}]\") for k in range(n_machines[s])] for j in range(n_jobs)] for s in range(n_stages)]\n",
    "y = [[[[model.addVar(vtype=GRB.BINARY, name=f\"y[job1:{j}, job2:{h}, stage:{s}, machine:{k}]\") for k in range(n_machines[s])] for h in range(n_jobs)] for j in range(n_jobs)] for s in range(n_stages)]\n",
    "startT = [[model.addVar(vtype=GRB.CONTINUOUS, name=f\"startT[job:{j}, stage:{s}]\") for j in range(n_jobs)] for s in range(n_stages)]\n",
    "completionT = [[model.addVar(vtype=GRB.CONTINUOUS, name=f\"completionT[job:{j}, stage:{s}]\") for j in range(n_jobs)] for s in range(n_stages)]"
   ]
  }
 ],
 "metadata": {
  "kernelspec": {
   "display_name": "gurobi",
   "language": "python",
   "name": "python3"
  },
  "language_info": {
   "codemirror_mode": {
    "name": "ipython",
    "version": 3
   },
   "file_extension": ".py",
   "mimetype": "text/x-python",
   "name": "python",
   "nbconvert_exporter": "python",
   "pygments_lexer": "ipython3",
   "version": "3.11.1"
  },
  "orig_nbformat": 4,
  "vscode": {
   "interpreter": {
    "hash": "474fa0651e5276cf1c3245e168ee202e06ef29b372bf0b49265ae28c49a1484c"
   }
  }
 },
 "nbformat": 4,
 "nbformat_minor": 2
}
