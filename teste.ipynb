{
 "cells": [
  {
   "cell_type": "code",
   "execution_count": 24,
   "metadata": {},
   "outputs": [
    {
     "name": "stdout",
     "output_type": "stream",
     "text": [
      "BrandimarteMk01.fjs\n"
     ]
    }
   ],
   "source": [
    "s = 'BrandimarteMk1.fjs'\n",
    "s = s.split('.')\n",
    "try:\n",
    "    int(s[0][-2])\n",
    "except:\n",
    "    s[0] = s[0][:-1] + '0' + s[0][-1]\n",
    "finally:\n",
    "    s = '.'.join(s)"
   ]
  }
 ],
 "metadata": {
  "kernelspec": {
   "display_name": "gurobi",
   "language": "python",
   "name": "python3"
  },
  "language_info": {
   "codemirror_mode": {
    "name": "ipython",
    "version": 3
   },
   "file_extension": ".py",
   "mimetype": "text/x-python",
   "name": "python",
   "nbconvert_exporter": "python",
   "pygments_lexer": "ipython3",
   "version": "3.11.1"
  },
  "orig_nbformat": 4
 },
 "nbformat": 4,
 "nbformat_minor": 2
}
