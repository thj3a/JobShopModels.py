{
 "cells": [
  {
   "cell_type": "code",
   "execution_count": 1,
   "metadata": {},
   "outputs": [],
   "source": [
    "import os"
   ]
  },
  {
   "cell_type": "code",
   "execution_count": 2,
   "metadata": {},
   "outputs": [
    {
     "data": {
      "text/plain": [
       "{1: 1, 2: 2, 3: 3}"
      ]
     },
     "execution_count": 2,
     "metadata": {},
     "output_type": "execute_result"
    }
   ],
   "source": [
    "d = {1:1, 2:2, 3:3}\n",
    "d"
   ]
  },
  {
   "cell_type": "code",
   "execution_count": 2,
   "metadata": {},
   "outputs": [
    {
     "data": {
      "text/plain": [
       "['Fattahi_setup_01.fjs',\n",
       " 'Fattahi_setup_02.fjs',\n",
       " 'Fattahi_setup_03.fjs',\n",
       " 'Fattahi_setup_04.fjs',\n",
       " 'Fattahi_setup_05.fjs',\n",
       " 'Fattahi_setup_06.fjs',\n",
       " 'Fattahi_setup_07.fjs',\n",
       " 'Fattahi_setup_08.fjs',\n",
       " 'Fattahi_setup_09.fjs',\n",
       " 'Fattahi_setup_10.fjs',\n",
       " 'Fattahi_setup_11.fjs',\n",
       " 'Fattahi_setup_12.fjs',\n",
       " 'Fattahi_setup_13.fjs',\n",
       " 'Fattahi_setup_14.fjs',\n",
       " 'Fattahi_setup_15.fjs',\n",
       " 'Fattahi_setup_16.fjs',\n",
       " 'Fattahi_setup_17.fjs',\n",
       " 'Fattahi_setup_18.fjs',\n",
       " 'Fattahi_setup_19.fjs',\n",
       " 'Fattahi_setup_20.fjs',\n",
       " 'gantt_Fattahi_setup_01.jpg',\n",
       " 'result_Fattahi_setup_01.csv']"
      ]
     },
     "execution_count": 2,
     "metadata": {},
     "output_type": "execute_result"
    }
   ],
   "source": [
    "os.listdir('./instances_with_setup/')"
   ]
  },
  {
   "cell_type": "code",
   "execution_count": 3,
   "metadata": {},
   "outputs": [
    {
     "data": {
      "text/plain": [
       "3"
      ]
     },
     "execution_count": 3,
     "metadata": {},
     "output_type": "execute_result"
    }
   ],
   "source": [
    "len(d)"
   ]
  }
 ],
 "metadata": {
  "kernelspec": {
   "display_name": "gurobi",
   "language": "python",
   "name": "python3"
  },
  "language_info": {
   "codemirror_mode": {
    "name": "ipython",
    "version": 3
   },
   "file_extension": ".py",
   "mimetype": "text/x-python",
   "name": "python",
   "nbconvert_exporter": "python",
   "pygments_lexer": "ipython3",
   "version": "3.11.1"
  },
  "orig_nbformat": 4
 },
 "nbformat": 4,
 "nbformat_minor": 2
}
