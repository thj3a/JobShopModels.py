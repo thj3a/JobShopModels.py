{
 "cells": [
  {
   "cell_type": "code",
   "execution_count": 1,
   "metadata": {},
   "outputs": [
    {
     "name": "stdout",
     "output_type": "stream",
     "text": [
      "{'chave_nova': 'valor'}\n"
     ]
    }
   ],
   "source": [
    "dicionario = {'chave_antiga': 'valor'}\n",
    "\n",
    "# Renomear a chave\n",
    "chave_nova = 'chave_nova'\n",
    "valor = dicionario.pop('chave_antiga')\n",
    "dicionario[chave_nova] = valor\n",
    "\n",
    "print(dicionario)"
   ]
  },
  {
   "cell_type": "code",
   "execution_count": 3,
   "metadata": {},
   "outputs": [
    {
     "name": "stdout",
     "output_type": "stream",
     "text": [
      "Número de dias úteis: 10\n"
     ]
    }
   ],
   "source": [
    "import pandas as pd\n",
    "import numpy as np\n",
    "from pandas.tseries.offsets import CustomBusinessDay\n",
    "\n",
    "# Definindo as datas de início e fim\n",
    "data_inicial = pd.to_datetime('2023-07-01')\n",
    "data_final = pd.to_datetime('2023-07-15')\n",
    "\n",
    "# Criando o índice de datas utilizando o CustomBusinessDay\n",
    "dias_uteis = pd.bdate_range(start=data_inicial, end=data_final)\n",
    "\n",
    "# Calculando o número de dias úteis\n",
    "num_dias_uteis = len(dias_uteis)\n",
    "\n",
    "print(\"Número de dias úteis:\", num_dias_uteis)"
   ]
  },
  {
   "cell_type": "code",
   "execution_count": 2,
   "metadata": {},
   "outputs": [
    {
     "data": {
      "text/plain": [
       "[(0, 1), (1, 2), (2, 2), (3, 3)]"
      ]
     },
     "execution_count": 2,
     "metadata": {},
     "output_type": "execute_result"
    }
   ],
   "source": [
    "list(enumerate(l1))"
   ]
  },
  {
   "cell_type": "code",
   "execution_count": 7,
   "metadata": {},
   "outputs": [
    {
     "data": {
      "text/plain": [
       "['copy_mdb_files.py',\n",
       " 'feature_testing.py',\n",
       " 'initial_solutions_evaluation.py',\n",
       " 'instances-repository.zip',\n",
       " 'InstancesExplanation.txt',\n",
       " 'instance_deadline_update.py',\n",
       " 'instance_modification.py',\n",
       " 'instance_reading_fjs.py',\n",
       " 'instance_translation_from_mdb_to_json.py',\n",
       " 'model3_generate_instance.py',\n",
       " 'model3_instances_translation.py',\n",
       " 'model3_instances_translation_to_mdb.py',\n",
       " 'renaming.py',\n",
       " 'test.ipynb',\n",
       " 'test2.ipynb',\n",
       " 'write_initial_solutions_from_mdb.py']"
      ]
     },
     "execution_count": 7,
     "metadata": {},
     "output_type": "execute_result"
    }
   ],
   "source": [
    "import os\n",
    "os.listdir()"
   ]
  },
  {
   "cell_type": "code",
   "execution_count": 12,
   "metadata": {},
   "outputs": [
    {
     "name": "stdout",
     "output_type": "stream",
     "text": [
      "Objective.MAKESPAN 0 1\n",
      "Objective.MAKESPAN 1 2\n",
      "Objective.DEADLINE 0 1\n",
      "Objective.DEADLINE 1 2\n"
     ]
    }
   ],
   "source": [
    "import sys\n",
    "import itertools\n",
    "sys.path.append('./../')\n",
    "from objective import Objective\n",
    "\n",
    "l1 = [1,2]\n",
    "for obj, (i, l) in itertools.product([x for x in Objective], enumerate(l1)):\n",
    "    print(obj, i, l)"
   ]
  },
  {
   "cell_type": "code",
   "execution_count": 9,
   "metadata": {},
   "outputs": [
    {
     "data": {
      "text/plain": [
       "[3, 4, 5, 6, 7, 4, 5, 6, 7, 8]"
      ]
     },
     "execution_count": 9,
     "metadata": {},
     "output_type": "execute_result"
    }
   ],
   "source": [
    "[i+j for i in range(5) for j in range(5) if i>=3]"
   ]
  },
  {
   "cell_type": "code",
   "execution_count": 3,
   "metadata": {},
   "outputs": [
    {
     "data": {
      "text/plain": [
       "False"
      ]
     },
     "execution_count": 3,
     "metadata": {},
     "output_type": "execute_result"
    }
   ],
   "source": [
    "2 in set(range(5)) - set(range(3))"
   ]
  },
  {
   "cell_type": "code",
   "execution_count": 36,
   "metadata": {},
   "outputs": [
    {
     "data": {
      "text/html": [
       "<div>\n",
       "<style scoped>\n",
       "    .dataframe tbody tr th:only-of-type {\n",
       "        vertical-align: middle;\n",
       "    }\n",
       "\n",
       "    .dataframe tbody tr th {\n",
       "        vertical-align: top;\n",
       "    }\n",
       "\n",
       "    .dataframe thead th {\n",
       "        text-align: right;\n",
       "    }\n",
       "</style>\n",
       "<table border=\"1\" class=\"dataframe\">\n",
       "  <thead>\n",
       "    <tr style=\"text-align: right;\">\n",
       "      <th></th>\n",
       "      <th>deadline_obj</th>\n",
       "      <th>makespan_obj</th>\n",
       "    </tr>\n",
       "  </thead>\n",
       "  <tbody>\n",
       "    <tr>\n",
       "      <th>BA_01</th>\n",
       "      <td>28</td>\n",
       "      <td>44</td>\n",
       "    </tr>\n",
       "    <tr>\n",
       "      <th>BA_02</th>\n",
       "      <td>28</td>\n",
       "      <td>44</td>\n",
       "    </tr>\n",
       "    <tr>\n",
       "      <th>BA_03</th>\n",
       "      <td>75</td>\n",
       "      <td>101</td>\n",
       "    </tr>\n",
       "    <tr>\n",
       "      <th>BA_04</th>\n",
       "      <td>75</td>\n",
       "      <td>101</td>\n",
       "    </tr>\n",
       "    <tr>\n",
       "      <th>BA_05</th>\n",
       "      <td>75</td>\n",
       "      <td>101</td>\n",
       "    </tr>\n",
       "    <tr>\n",
       "      <th>...</th>\n",
       "      <td>...</td>\n",
       "      <td>...</td>\n",
       "    </tr>\n",
       "    <tr>\n",
       "      <th>URT_16</th>\n",
       "      <td>55</td>\n",
       "      <td>152</td>\n",
       "    </tr>\n",
       "    <tr>\n",
       "      <th>URT_17</th>\n",
       "      <td>92</td>\n",
       "      <td>222</td>\n",
       "    </tr>\n",
       "    <tr>\n",
       "      <th>URT_18</th>\n",
       "      <td>144</td>\n",
       "      <td>244</td>\n",
       "    </tr>\n",
       "    <tr>\n",
       "      <th>URT_19</th>\n",
       "      <td>199</td>\n",
       "      <td>313</td>\n",
       "    </tr>\n",
       "    <tr>\n",
       "      <th>URT_20</th>\n",
       "      <td>5923</td>\n",
       "      <td>6089</td>\n",
       "    </tr>\n",
       "  </tbody>\n",
       "</table>\n",
       "<p>63 rows × 2 columns</p>\n",
       "</div>"
      ],
      "text/plain": [
       "        deadline_obj  makespan_obj\n",
       "BA_01             28            44\n",
       "BA_02             28            44\n",
       "BA_03             75           101\n",
       "BA_04             75           101\n",
       "BA_05             75           101\n",
       "...              ...           ...\n",
       "URT_16            55           152\n",
       "URT_17            92           222\n",
       "URT_18           144           244\n",
       "URT_19           199           313\n",
       "URT_20          5923          6089\n",
       "\n",
       "[63 rows x 2 columns]"
      ]
     },
     "execution_count": 36,
     "metadata": {},
     "output_type": "execute_result"
    }
   ],
   "source": [
    "import os\n",
    "import pandas as pd\n",
    "\n",
    "# create an empty dataframe\n",
    "sol_path = './../results-heuristic-start/sol'\n",
    "# list the files in the directory\n",
    "files = os.listdir(sol_path)\n",
    "instances = {str.join(\"_\",(file.split('.')[0]).split('_')[:-1]):{} for file in files}\n",
    "\n",
    "# iterate over the files\n",
    "for file in files:\n",
    "    # check if the file is a solution file\n",
    "    if file.endswith('.sol'):\n",
    "        # get the instance name\n",
    "        instance = file.split('.')[0]\n",
    "        # read the solution file\n",
    "        with open(os.path.join(sol_path, file), 'r') as f:\n",
    "            # check if the objective value is makespan or deadline\n",
    "            name = str.join(\"_\",(file.split('.')[0]).split('_')[:-1])\n",
    "            obj_type = (file.split('.')[0]).split('_')[-1]\n",
    "            lines = f.readlines()\n",
    "            obj = int(lines[1].split()[-1])\n",
    "            instances[name][obj_type+'_obj'] = obj\n",
    "\n",
    "df = pd.DataFrame(instances).T\n",
    "df\n"
   ]
  },
  {
   "cell_type": "code",
   "execution_count": 3,
   "metadata": {},
   "outputs": [
    {
     "name": "stdout",
     "output_type": "stream",
     "text": [
      "          Unnamed: 0         instance  status     obj  model time (s)  \\\n",
      "instance                                                                \n",
      "BA_01              0   BA_01_deadline       2    28.0           0.000   \n",
      "BA_02              0   BA_02_deadline       2    28.0           0.002   \n",
      "BA_03              0   BA_03_deadline       2    75.0           0.016   \n",
      "BA_04              0   BA_04_deadline       2    75.0           0.000   \n",
      "BA_05              0   BA_05_deadline       2    75.0           0.016   \n",
      "...              ...              ...     ...     ...             ...   \n",
      "URT_16             0  URT_16_deadline       9    55.0        3600.062   \n",
      "URT_17             0  URT_17_deadline       9    92.0        3603.168   \n",
      "URT_18             0  URT_18_deadline       9   144.0        3600.249   \n",
      "URT_19             0  URT_19_deadline       9   199.0        3600.905   \n",
      "URT_20             0  URT_20_deadline       9  5923.0        3600.090   \n",
      "\n",
      "          total time (s)       gap  \n",
      "instance                            \n",
      "BA_01           0.154118  0.000000  \n",
      "BA_02           0.168525  0.000000  \n",
      "BA_03           0.170466  0.000000  \n",
      "BA_04           0.169776  0.000000  \n",
      "BA_05           0.172972  0.000000  \n",
      "...                  ...       ...  \n",
      "URT_16       3619.742751  0.890909  \n",
      "URT_17       3612.521062  0.923913  \n",
      "URT_18       3602.327341  0.888889  \n",
      "URT_19       3607.117635  0.954774  \n",
      "URT_20       3601.614840  0.000169  \n",
      "\n",
      "[63 rows x 7 columns]\n"
     ]
    }
   ],
   "source": [
    "import pandas as pd\n",
    "\n",
    "# read the csv file\n",
    "df = pd.read_csv('./../results-heuristic-start/csv/log/summary_results.csv')\n",
    "\n",
    "# group the lines with the same prefix that only differs the suffix between 'makespan' and 'deadline'\n",
    "grouped = df.groupby(df['instance'].str.split('_').str[:-1].str.join('_'))\n",
    "\n",
    "# get only the last line for each 'instance' value in the file\n",
    "result = grouped.last()\n",
    "\n",
    "# print the result\n",
    "print(result)\n",
    "\n",
    "result.to_csv('./../test-result.csv')"
   ]
  }
 ],
 "metadata": {
  "kernelspec": {
   "display_name": "Python 3",
   "language": "python",
   "name": "python3"
  },
  "language_info": {
   "codemirror_mode": {
    "name": "ipython",
    "version": 3
   },
   "file_extension": ".py",
   "mimetype": "text/x-python",
   "name": "python",
   "nbconvert_exporter": "python",
   "pygments_lexer": "ipython3",
   "version": "3.11.3"
  },
  "orig_nbformat": 4
 },
 "nbformat": 4,
 "nbformat_minor": 2
}
