{
 "cells": [
  {
   "cell_type": "code",
   "execution_count": 1,
   "metadata": {},
   "outputs": [
    {
     "name": "stdout",
     "output_type": "stream",
     "text": [
      "{'chave_nova': 'valor'}\n"
     ]
    }
   ],
   "source": [
    "dicionario = {'chave_antiga': 'valor'}\n",
    "\n",
    "# Renomear a chave\n",
    "chave_nova = 'chave_nova'\n",
    "valor = dicionario.pop('chave_antiga')\n",
    "dicionario[chave_nova] = valor\n",
    "\n",
    "print(dicionario)"
   ]
  },
  {
   "cell_type": "code",
   "execution_count": 3,
   "metadata": {},
   "outputs": [
    {
     "name": "stdout",
     "output_type": "stream",
     "text": [
      "Número de dias úteis: 10\n"
     ]
    }
   ],
   "source": [
    "import pandas as pd\n",
    "import numpy as np\n",
    "from pandas.tseries.offsets import CustomBusinessDay\n",
    "\n",
    "# Definindo as datas de início e fim\n",
    "data_inicial = pd.to_datetime('2023-07-01')\n",
    "data_final = pd.to_datetime('2023-07-15')\n",
    "\n",
    "# Criando o índice de datas utilizando o CustomBusinessDay\n",
    "dias_uteis = pd.bdate_range(start=data_inicial, end=data_final)\n",
    "\n",
    "# Calculando o número de dias úteis\n",
    "num_dias_uteis = len(dias_uteis)\n",
    "\n",
    "print(\"Número de dias úteis:\", num_dias_uteis)"
   ]
  },
  {
   "cell_type": "code",
   "execution_count": 2,
   "metadata": {},
   "outputs": [
    {
     "data": {
      "text/plain": [
       "[(0, 1), (1, 2), (2, 2), (3, 3)]"
      ]
     },
     "execution_count": 2,
     "metadata": {},
     "output_type": "execute_result"
    }
   ],
   "source": [
    "list(enumerate(l1))"
   ]
  },
  {
   "cell_type": "code",
   "execution_count": 7,
   "metadata": {},
   "outputs": [
    {
     "data": {
      "text/plain": [
       "['copy_mdb_files.py',\n",
       " 'feature_testing.py',\n",
       " 'initial_solutions_evaluation.py',\n",
       " 'instances-repository.zip',\n",
       " 'InstancesExplanation.txt',\n",
       " 'instance_deadline_update.py',\n",
       " 'instance_modification.py',\n",
       " 'instance_reading_fjs.py',\n",
       " 'instance_translation_from_mdb_to_json.py',\n",
       " 'model3_generate_instance.py',\n",
       " 'model3_instances_translation.py',\n",
       " 'model3_instances_translation_to_mdb.py',\n",
       " 'renaming.py',\n",
       " 'test.ipynb',\n",
       " 'test2.ipynb',\n",
       " 'write_initial_solutions_from_mdb.py']"
      ]
     },
     "execution_count": 7,
     "metadata": {},
     "output_type": "execute_result"
    }
   ],
   "source": [
    "import os\n",
    "os.listdir()"
   ]
  },
  {
   "cell_type": "code",
   "execution_count": 12,
   "metadata": {},
   "outputs": [
    {
     "name": "stdout",
     "output_type": "stream",
     "text": [
      "Objective.MAKESPAN 0 1\n",
      "Objective.MAKESPAN 1 2\n",
      "Objective.DEADLINE 0 1\n",
      "Objective.DEADLINE 1 2\n"
     ]
    }
   ],
   "source": [
    "import sys\n",
    "import itertools\n",
    "sys.path.append('./../')\n",
    "from objective import Objective\n",
    "\n",
    "l1 = [1,2]\n",
    "for obj, (i, l) in itertools.product([x for x in Objective], enumerate(l1)):\n",
    "    print(obj, i, l)"
   ]
  },
  {
   "cell_type": "code",
   "execution_count": 9,
   "metadata": {},
   "outputs": [
    {
     "data": {
      "text/plain": [
       "[3, 4, 5, 6, 7, 4, 5, 6, 7, 8]"
      ]
     },
     "execution_count": 9,
     "metadata": {},
     "output_type": "execute_result"
    }
   ],
   "source": [
    "[i+j for i in range(5) for j in range(5) if i>=3]"
   ]
  },
  {
   "cell_type": "code",
   "execution_count": 3,
   "metadata": {},
   "outputs": [
    {
     "data": {
      "text/plain": [
       "False"
      ]
     },
     "execution_count": 3,
     "metadata": {},
     "output_type": "execute_result"
    }
   ],
   "source": [
    "2 in set(range(5)) - set(range(3))"
   ]
  }
 ],
 "metadata": {
  "kernelspec": {
   "display_name": "Python 3",
   "language": "python",
   "name": "python3"
  },
  "language_info": {
   "codemirror_mode": {
    "name": "ipython",
    "version": 3
   },
   "file_extension": ".py",
   "mimetype": "text/x-python",
   "name": "python",
   "nbconvert_exporter": "python",
   "pygments_lexer": "ipython3",
   "version": "3.11.3"
  },
  "orig_nbformat": 4
 },
 "nbformat": 4,
 "nbformat_minor": 2
}
